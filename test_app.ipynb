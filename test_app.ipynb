{
 "cells": [
  {
   "cell_type": "markdown",
   "metadata": {},
   "source": [
    "# Тестирование Web приложения"
   ]
  },
  {
   "cell_type": "markdown",
   "metadata": {},
   "source": [
    "В этом коротком jupyter notebook предлагается провести легкое тестирование натсроенного веб приложения."
   ]
  },
  {
   "cell_type": "code",
   "execution_count": 1,
   "metadata": {},
   "outputs": [],
   "source": [
    "from datetime import datetime"
   ]
  },
  {
   "cell_type": "code",
   "execution_count": 2,
   "metadata": {},
   "outputs": [],
   "source": [
    "import requests\n",
    "import json\n",
    "\n",
    "def post_request(uri, data_json):\n",
    "    # Данная функция отправляет POST запрос и возвращает ответ сервера\n",
    "    url = uri\n",
    "    headers = {'Content-type': 'application/json',  # Определение типа данных\n",
    "               'Accept': 'text/plain',\n",
    "               'Content-Encoding': 'utf-8'}\n",
    "    data = data_json  # Если по одному ключу находится несколько словарей, формируем список словарей\n",
    "    answer = requests.post(url, data=json.dumps(data), headers=headers)\n",
    "    print(answer)\n",
    "    try:\n",
    "        response = answer.json()\n",
    "    except:\n",
    "        response = answer.text\n",
    "    \n",
    "    print(response)"
   ]
  },
  {
   "cell_type": "markdown",
   "metadata": {},
   "source": [
    "Укажите URL для функции `post_request`"
   ]
  },
  {
   "cell_type": "code",
   "execution_count": 3,
   "metadata": {},
   "outputs": [],
   "source": [
    "base_url = 'http://localhost:8080'"
   ]
  },
  {
   "cell_type": "markdown",
   "metadata": {},
   "source": [
    "Попробуем отправить на сервер список курьеров (они все валидные), должно вернуть JSON с их id"
   ]
  },
  {
   "cell_type": "code",
   "execution_count": 10,
   "metadata": {},
   "outputs": [],
   "source": [
    "couriers = {\"data\": [\n",
    "    {\n",
    "        \"courier_id\": 1,\n",
    "        \"courier_type\": \"foot\",\n",
    "        \"regions\": [12, 22],\n",
    "        \"working_hours\": [\"11:35-14:05\", \"09:00-11:00\"]\n",
    "    },\n",
    "    {\n",
    "        \"courier_id\": 2,\n",
    "        \"courier_type\": \"bike\",\n",
    "        \"regions\": [22],\n",
    "        \"working_hours\": [\"09:00-18:00\"]\n",
    "    },\n",
    "    {\n",
    "        \"courier_id\": 3,\n",
    "        \"courier_type\": \"car\",\n",
    "        \"regions\": [12, 22, 23, 33],\n",
    "        \"working_hours\": [\"09:00-18:00\"]\n",
    "    },\n",
    "    {\n",
    "        \"courier_id\": 4,\n",
    "        \"courier_type\": \"bike\",\n",
    "        \"regions\": [12, 1],\n",
    "        \"working_hours\": [\"10:35-15:05\", \"17:00-19:00\"]\n",
    "    },\n",
    "    {\n",
    "        \"courier_id\": 5,\n",
    "        \"courier_type\": \"bike\",\n",
    "        \"regions\": [12],\n",
    "        \"working_hours\": [\"12:00-15:00\"]\n",
    "    }]}"
   ]
  },
  {
   "cell_type": "code",
   "execution_count": 11,
   "metadata": {},
   "outputs": [
    {
     "name": "stdout",
     "output_type": "stream",
     "text": [
      "<Response [201]>\n",
      "{'couriers': [{'id': 1}, {'id': 2}, {'id': 3}, {'id': 4}, {'id': 5}]}\n"
     ]
    }
   ],
   "source": [
    "post_request(base_url + '/couriers', couriers)"
   ]
  },
  {
   "cell_type": "markdown",
   "metadata": {},
   "source": [
    "Аналогично и для заказов"
   ]
  },
  {
   "cell_type": "code",
   "execution_count": 12,
   "metadata": {},
   "outputs": [],
   "source": [
    "orders = {\"data\": [\n",
    "    {\n",
    "        \"order_id\": 1,\n",
    "        \"weight\": 0.23,\n",
    "        \"region\": 12,\n",
    "        \"delivery_hours\": [\"09:00-18:00\"]\n",
    "    },\n",
    "    {\n",
    "        \"order_id\": 2,\n",
    "        \"weight\": 15,\n",
    "        \"region\": 1,\n",
    "        \"delivery_hours\": [\"09:00-18:00\"]\n",
    "    },\n",
    "    {\n",
    "        \"order_id\": 3,\n",
    "        \"weight\": 3.01,\n",
    "        \"region\": 22,\n",
    "        \"delivery_hours\": [\"09:00-12:00\", \"16:00-21:30\"]\n",
    "    },\n",
    "    {\n",
    "        \"order_id\": 4,\n",
    "        \"weight\": 5.7,\n",
    "        \"region\": 1,\n",
    "        \"delivery_hours\": [\"17:00-21:00\"]\n",
    "    },\n",
    "    {\n",
    "        \"order_id\": 5,\n",
    "        \"weight\": 0.01,\n",
    "        \"region\": 22,\n",
    "        \"delivery_hours\": [\"18:00-21:30\"]\n",
    "    },\n",
    "    {\n",
    "        \"order_id\": 6,\n",
    "        \"weight\": 12,\n",
    "        \"region\": 12,\n",
    "        \"delivery_hours\": [\"12:00-18:00\"]\n",
    "    },\n",
    "    {\n",
    "        \"order_id\": 7,\n",
    "        \"weight\": 4.71,\n",
    "        \"region\": 12,\n",
    "        \"delivery_hours\": [\"09:00-12:00\", \"16:00-20:30\"]\n",
    "    }]}"
   ]
  },
  {
   "cell_type": "code",
   "execution_count": 13,
   "metadata": {},
   "outputs": [
    {
     "name": "stdout",
     "output_type": "stream",
     "text": [
      "<Response [201]>\n",
      "{'orders': [{'id': 1}, {'id': 2}, {'id': 3}, {'id': 4}, {'id': 5}, {'id': 6}, {'id': 7}]}\n"
     ]
    }
   ],
   "source": [
    "post_request(base_url + '/orders', orders)"
   ]
  },
  {
   "cell_type": "markdown",
   "metadata": {},
   "source": [
    "Курьер №3 имеет \"courier_type\": \"car\".\n",
    "\n",
    "Присвоим ему заказы (должны присвоиться 'orders': [{'id': 1}, {'id': 3}, {'id': 7}, {'id': 6}])"
   ]
  },
  {
   "cell_type": "code",
   "execution_count": 14,
   "metadata": {},
   "outputs": [],
   "source": [
    "assign = {\"courier_id\": 3}"
   ]
  },
  {
   "cell_type": "code",
   "execution_count": 15,
   "metadata": {},
   "outputs": [
    {
     "name": "stdout",
     "output_type": "stream",
     "text": [
      "<Response [200]>\n",
      "{'assign_time': '2021-03-29 22:42:38.856332', 'orders': [{'id': 1}, {'id': 3}, {'id': 7}, {'id': 6}]}\n"
     ]
    }
   ],
   "source": [
    "post_request(base_url + '/orders/assign', assign)"
   ]
  },
  {
   "cell_type": "markdown",
   "metadata": {},
   "source": [
    "Теперь попробуем изменить тип транспорта курьера №3 на пеший.\n",
    "\n",
    "Часть заказов должна удалиться (id: 6)"
   ]
  },
  {
   "cell_type": "code",
   "execution_count": 17,
   "metadata": {},
   "outputs": [],
   "source": [
    "update = {\"courier_type\": \"foot\"}"
   ]
  },
  {
   "cell_type": "code",
   "execution_count": 18,
   "metadata": {
    "scrolled": true
   },
   "outputs": [
    {
     "name": "stdout",
     "output_type": "stream",
     "text": [
      "<Response [200]>\n",
      "{'courier_id': 3, 'courier_type': 'foot', 'regions': [12, 22, 23, 33], 'working_hours': ['09:00-18:00']}\n"
     ]
    }
   ],
   "source": [
    "post_request(base_url + '/couriers/3', update)"
   ]
  },
  {
   "cell_type": "markdown",
   "metadata": {},
   "source": [
    "И этот заказ снова доступен. Назначим его курьеру №5."
   ]
  },
  {
   "cell_type": "code",
   "execution_count": 19,
   "metadata": {},
   "outputs": [
    {
     "name": "stdout",
     "output_type": "stream",
     "text": [
      "<Response [200]>\n",
      "{'assign_time': '2021-03-29 22:43:02.152506', 'orders': [{'id': 6}]}\n"
     ]
    }
   ],
   "source": [
    "assign = {\"courier_id\": 5}\n",
    "post_request(base_url + '/orders/assign', assign)"
   ]
  },
  {
   "cell_type": "markdown",
   "metadata": {},
   "source": [
    "Также можем завершать заказы."
   ]
  },
  {
   "cell_type": "code",
   "execution_count": 21,
   "metadata": {},
   "outputs": [],
   "source": [
    "complete = {\n",
    "\"courier_id\": 3,\n",
    "\"order_id\": 1,\n",
    "\"complete_time\": datetime.now().isoformat()\n",
    "}"
   ]
  },
  {
   "cell_type": "code",
   "execution_count": 22,
   "metadata": {},
   "outputs": [
    {
     "name": "stdout",
     "output_type": "stream",
     "text": [
      "<Response [200]>\n",
      "{'order_id': 1}\n"
     ]
    }
   ],
   "source": [
    "post_request(base_url + '/orders/complete', complete)"
   ]
  },
  {
   "cell_type": "markdown",
   "metadata": {},
   "source": [
    "Теперь можно попробовать добавить невалидного курьера (\"courier_type\": \"food\").\n",
    "\n",
    "Однако можно изменить файл (папка /data/openapi.yaml), поменяв или добавив новый тип курьера (если данный файл был проброшен при старте контейнера). Тогда этот курьер уже может быть признан валидным."
   ]
  },
  {
   "cell_type": "code",
   "execution_count": 23,
   "metadata": {},
   "outputs": [],
   "source": [
    "couriers = {\"data\": [\n",
    "    {\n",
    "        \"courier_id\": 9,\n",
    "        \"courier_type\": \"food\",\n",
    "        \"regions\": [12, 22],\n",
    "        \"working_hours\": [\"11:35-14:05\", \"09:00-11:00\"]\n",
    "    }]}"
   ]
  },
  {
   "cell_type": "code",
   "execution_count": 24,
   "metadata": {},
   "outputs": [
    {
     "name": "stdout",
     "output_type": "stream",
     "text": [
      "<Response [400]>\n",
      "{'validation_error': {'couriers': [{'id': 9}]}}\n"
     ]
    }
   ],
   "source": [
    "post_request(base_url + '/couriers', couriers)"
   ]
  },
  {
   "cell_type": "code",
   "execution_count": null,
   "metadata": {},
   "outputs": [],
   "source": []
  }
 ],
 "metadata": {
  "kernelspec": {
   "display_name": "Python 3",
   "language": "python",
   "name": "python3"
  },
  "language_info": {
   "codemirror_mode": {
    "name": "ipython",
    "version": 3
   },
   "file_extension": ".py",
   "mimetype": "text/x-python",
   "name": "python",
   "nbconvert_exporter": "python",
   "pygments_lexer": "ipython3",
   "version": "3.8.5"
  }
 },
 "nbformat": 4,
 "nbformat_minor": 4
}
